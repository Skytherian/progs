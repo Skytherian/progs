{
 "cells": [
  {
   "cell_type": "code",
   "execution_count": 1,
   "id": "0d4dbeed",
   "metadata": {},
   "outputs": [],
   "source": [
    "amazon <- read.csv('amz_com-ecommerce_sample.csv' ,encoding=\"ANSI_X3.4-1968\",header = T)\n",
    "flipkart <- read.csv('flipkart_com-ecommerce_sample.csv',encoding=\"ANSI_X3.4-1968\",header = T)"
   ]
  },
  {
   "cell_type": "markdown",
   "id": "fe49ea98",
   "metadata": {},
   "source": [
    "## Checking which columns have mismatches"
   ]
  },
  {
   "cell_type": "code",
   "execution_count": 2,
   "id": "b2fd66db",
   "metadata": {},
   "outputs": [
    {
     "data": {
      "text/html": [
       "<table class=\"dataframe\">\n",
       "<caption>A matrix: 1 x 6 of type chr</caption>\n",
       "<tbody>\n",
       "\t<tr><td>Component “product_name”: 3445 string mismatches</td><td>Component “product_category_tree”: 1 string mismatch</td><td>Component “retail_price”: 'is.NA' value mismatch: 78 in current 0 in target</td><td>Component “discounted_price”: 'is.NA' value mismatch: 78 in current 0 in target</td><td>Component “description”: 5 string mismatches</td><td>Component “product_specifications”: 1 string mismatch</td></tr>\n",
       "</tbody>\n",
       "</table>\n"
      ],
      "text/latex": [
       "A matrix: 1 x 6 of type chr\n",
       "\\begin{tabular}{llllll}\n",
       "\t Component “product\\_name”: 3445 string mismatches & Component “product\\_category\\_tree”: 1 string mismatch & Component “retail\\_price”: 'is.NA' value mismatch: 78 in current 0 in target & Component “discounted\\_price”: 'is.NA' value mismatch: 78 in current 0 in target & Component “description”: 5 string mismatches & Component “product\\_specifications”: 1 string mismatch\\\\\n",
       "\\end{tabular}\n"
      ],
      "text/markdown": [
       "\n",
       "A matrix: 1 x 6 of type chr\n",
       "\n",
       "| Component “product_name”: 3445 string mismatches | Component “product_category_tree”: 1 string mismatch | Component “retail_price”: 'is.NA' value mismatch: 78 in current 0 in target | Component “discounted_price”: 'is.NA' value mismatch: 78 in current 0 in target | Component “description”: 5 string mismatches | Component “product_specifications”: 1 string mismatch |\n",
       "\n"
      ],
      "text/plain": [
       "     [,1]                                            \n",
       "[1,] Component “product_name”: 3445 string mismatches\n",
       "     [,2]                                                \n",
       "[1,] Component “product_category_tree”: 1 string mismatch\n",
       "     [,3]                                                                       \n",
       "[1,] Component “retail_price”: 'is.NA' value mismatch: 78 in current 0 in target\n",
       "     [,4]                                                                           \n",
       "[1,] Component “discounted_price”: 'is.NA' value mismatch: 78 in current 0 in target\n",
       "     [,5]                                        \n",
       "[1,] Component “description”: 5 string mismatches\n",
       "     [,6]                                                 \n",
       "[1,] Component “product_specifications”: 1 string mismatch"
      ]
     },
     "metadata": {},
     "output_type": "display_data"
    }
   ],
   "source": [
    "all.equal(amazon,flipkart) |> t() "
   ]
  },
  {
   "cell_type": "markdown",
   "id": "5d78d9a6",
   "metadata": {},
   "source": [
    "### The **description** category has the most mismatches, we will use that for matching.    \n",
    "The description is also more likely to be unique.\n",
    "\n"
   ]
  },
  {
   "cell_type": "code",
   "execution_count": 3,
   "id": "204b8046",
   "metadata": {},
   "outputs": [
    {
     "data": {
      "text/html": [
       "<style>\n",
       ".list-inline {list-style: none; margin:0; padding: 0}\n",
       ".list-inline>li {display: inline-block}\n",
       ".list-inline>li:not(:last-child)::after {content: \"\\00b7\"; padding: 0 .5ex}\n",
       "</style>\n",
       "<ol class=list-inline><li>29</li><li>67</li><li>391</li><li>485</li><li>486</li></ol>\n"
      ],
      "text/latex": [
       "\\begin{enumerate*}\n",
       "\\item 29\n",
       "\\item 67\n",
       "\\item 391\n",
       "\\item 485\n",
       "\\item 486\n",
       "\\end{enumerate*}\n"
      ],
      "text/markdown": [
       "1. 29\n",
       "2. 67\n",
       "3. 391\n",
       "4. 485\n",
       "5. 486\n",
       "\n",
       "\n"
      ],
      "text/plain": [
       "[1]  29  67 391 485 486"
      ]
     },
     "metadata": {},
     "output_type": "display_data"
    }
   ],
   "source": [
    "selectcol <- 'description'\n",
    "(index <- which(amazon[,selectcol]!=flipkart[,selectcol]) )\n"
   ]
  },
  {
   "cell_type": "markdown",
   "id": "8fc4cdf9",
   "metadata": {},
   "source": [
    "## The below function will match names using *cosine*  distance after detecting mismatch in the selected column"
   ]
  },
  {
   "cell_type": "code",
   "execution_count": 4,
   "id": "874155cf",
   "metadata": {},
   "outputs": [],
   "source": [
    "match_by_selected_column<- function(selectcol,amazon,flipkart){\n",
    "(index <- which(amazon[,selectcol]!=flipkart[,selectcol]) )\n",
    "\n",
    "\n",
    "\n",
    "mismatch <- cbind(  amazon[index,c('product_name',selectcol)],\n",
    "                    flipkart[index,c('product_name',selectcol)]\n",
    "                  )\n",
    "\n",
    "colnames(mismatch)[3:4] <- paste0('flipkart_',colnames(mismatch)[3:4]) \n",
    "colnames(mismatch)[1:2] <- paste0('amazon_',colnames(mismatch)[1:2]) \n",
    "print(\"mismatched\")\n",
    "\n",
    "library(stringdist)\n",
    "\n",
    "stringdistmatrix(\n",
    "                  tolower(mismatch$flipkart_product_name),\n",
    "                  tolower(mismatch$amazon_product_name),\n",
    "                  method = \"cosine\"\n",
    "                 )  |> apply(2,which.min) -> temp\n",
    "\n",
    "return(data.frame(mismatch$amazon_product_name[temp],mismatch$flipkart_product_name))\n",
    "}"
   ]
  },
  {
   "cell_type": "code",
   "execution_count": 5,
   "id": "29f58477",
   "metadata": {},
   "outputs": [
    {
     "name": "stdout",
     "output_type": "stream",
     "text": [
      "[1] \"mismatched\"\n"
     ]
    }
   ],
   "source": [
    "matched<-match_by_selected_column(selectcol = selectcol ,amazon=amazon,flipkart = flipkart)"
   ]
  },
  {
   "cell_type": "code",
   "execution_count": 6,
   "id": "a498fe95",
   "metadata": {},
   "outputs": [
    {
     "data": {
      "text/html": [
       "<table class=\"dataframe\">\n",
       "<caption>A data.frame: 5 x 2</caption>\n",
       "<thead>\n",
       "\t<tr><th></th><th scope=col>mismatch.amazon_product_name.temp.</th><th scope=col>mismatch.flipkart_product_name</th></tr>\n",
       "\t<tr><th></th><th scope=col>&lt;chr&gt;</th><th scope=col>&lt;chr&gt;</th></tr>\n",
       "</thead>\n",
       "<tbody>\n",
       "\t<tr><th scope=row>1</th><td>FDT WOMEN'S Leggings Pants                                   </td><td>FDT Women's Leggings                                         </td></tr>\n",
       "\t<tr><th scope=row>2</th><td>MASARA SOLID WOMEN'S STRAIGHT KURTA                          </td><td>MASARA Solid Women's Straight Kurta                          </td></tr>\n",
       "\t<tr><th scope=row>3</th><td>Fantasy Ika Casual Short Sleeve Solid Women's Top            </td><td>Fantasy Ika Casual Short Sleeve Solid Women's Top            </td></tr>\n",
       "\t<tr><th scope=row>4</th><td>SFDS Casual, Formal, Party Sleeveless Self Design Women's Top</td><td>SFDS Casual, Formal, Party Sleeveless Self Design Women's Top</td></tr>\n",
       "\t<tr><th scope=row>5</th><td>SFDS Casual, Formal, Party Sleeveless Self Design Women's Top</td><td>SFDS Casual, Formal, Party Sleeveless Self Design Women's Top</td></tr>\n",
       "</tbody>\n",
       "</table>\n"
      ],
      "text/latex": [
       "A data.frame: 5 x 2\n",
       "\\begin{tabular}{r|ll}\n",
       "  & mismatch.amazon\\_product\\_name.temp. & mismatch.flipkart\\_product\\_name\\\\\n",
       "  & <chr> & <chr>\\\\\n",
       "\\hline\n",
       "\t1 & FDT WOMEN'S Leggings Pants                                    & FDT Women's Leggings                                         \\\\\n",
       "\t2 & MASARA SOLID WOMEN'S STRAIGHT KURTA                           & MASARA Solid Women's Straight Kurta                          \\\\\n",
       "\t3 & Fantasy Ika Casual Short Sleeve Solid Women's Top             & Fantasy Ika Casual Short Sleeve Solid Women's Top            \\\\\n",
       "\t4 & SFDS Casual, Formal, Party Sleeveless Self Design Women's Top & SFDS Casual, Formal, Party Sleeveless Self Design Women's Top\\\\\n",
       "\t5 & SFDS Casual, Formal, Party Sleeveless Self Design Women's Top & SFDS Casual, Formal, Party Sleeveless Self Design Women's Top\\\\\n",
       "\\end{tabular}\n"
      ],
      "text/markdown": [
       "\n",
       "A data.frame: 5 x 2\n",
       "\n",
       "| <!--/--> | mismatch.amazon_product_name.temp. &lt;chr&gt; | mismatch.flipkart_product_name &lt;chr&gt; |\n",
       "|---|---|---|\n",
       "| 1 | FDT WOMEN'S Leggings Pants                                    | FDT Women's Leggings                                          |\n",
       "| 2 | MASARA SOLID WOMEN'S STRAIGHT KURTA                           | MASARA Solid Women's Straight Kurta                           |\n",
       "| 3 | Fantasy Ika Casual Short Sleeve Solid Women's Top             | Fantasy Ika Casual Short Sleeve Solid Women's Top             |\n",
       "| 4 | SFDS Casual, Formal, Party Sleeveless Self Design Women's Top | SFDS Casual, Formal, Party Sleeveless Self Design Women's Top |\n",
       "| 5 | SFDS Casual, Formal, Party Sleeveless Self Design Women's Top | SFDS Casual, Formal, Party Sleeveless Self Design Women's Top |\n",
       "\n"
      ],
      "text/plain": [
       "  mismatch.amazon_product_name.temp.                           \n",
       "1 FDT WOMEN'S Leggings Pants                                   \n",
       "2 MASARA SOLID WOMEN'S STRAIGHT KURTA                          \n",
       "3 Fantasy Ika Casual Short Sleeve Solid Women's Top            \n",
       "4 SFDS Casual, Formal, Party Sleeveless Self Design Women's Top\n",
       "5 SFDS Casual, Formal, Party Sleeveless Self Design Women's Top\n",
       "  mismatch.flipkart_product_name                               \n",
       "1 FDT Women's Leggings                                         \n",
       "2 MASARA Solid Women's Straight Kurta                          \n",
       "3 Fantasy Ika Casual Short Sleeve Solid Women's Top            \n",
       "4 SFDS Casual, Formal, Party Sleeveless Self Design Women's Top\n",
       "5 SFDS Casual, Formal, Party Sleeveless Self Design Women's Top"
      ]
     },
     "metadata": {},
     "output_type": "display_data"
    }
   ],
   "source": [
    "head(matched)"
   ]
  },
  {
   "cell_type": "code",
   "execution_count": 7,
   "id": "8764c15b",
   "metadata": {},
   "outputs": [],
   "source": [
    "fixed_amazon <- amazon\n",
    "rm(amazon)\n",
    "fixed_amazon[index,'product_name'] <- matched[,1]"
   ]
  },
  {
   "cell_type": "markdown",
   "id": "fda0b4d1",
   "metadata": {},
   "source": [
    "## Combined all\n"
   ]
  },
  {
   "cell_type": "code",
   "execution_count": 8,
   "id": "85ee2135",
   "metadata": {},
   "outputs": [
    {
     "data": {
      "text/html": [
       "<table class=\"dataframe\">\n",
       "<caption>A data.frame: 6 x 6</caption>\n",
       "<thead>\n",
       "\t<tr><th></th><th scope=col>Product name in Flipkart</th><th scope=col>Retail price in Flipkart</th><th scope=col>Discounted Price in Flipkart</th><th scope=col>Product name in Amazon</th><th scope=col>Retail price in Amazon</th><th scope=col>Discounted Price in Amazon</th></tr>\n",
       "\t<tr><th></th><th scope=col>&lt;chr&gt;</th><th scope=col>&lt;chr&gt;</th><th scope=col>&lt;chr&gt;</th><th scope=col>&lt;chr&gt;</th><th scope=col>&lt;chr&gt;</th><th scope=col>&lt;chr&gt;</th></tr>\n",
       "</thead>\n",
       "<tbody>\n",
       "\t<tr><th scope=row>1</th><td>Alisha Solid Women's Cycling Shorts                                  </td><td>999  </td><td>379  </td><td>Alisha Solid Women's Cycling Shorts                                  </td><td>982  </td><td>438  </td></tr>\n",
       "\t<tr><th scope=row>2</th><td>FabHomeDecor Fabric Double Sofa Bed                                  </td><td>32157</td><td>22646</td><td>FabHomeDecor Fabric Double Sofa Bed                                  </td><td>32143</td><td>29121</td></tr>\n",
       "\t<tr><th scope=row>3</th><td>AW Bellies                                                           </td><td>999  </td><td>499  </td><td>AW Bellies                                                           </td><td>991  </td><td>551  </td></tr>\n",
       "\t<tr><th scope=row>4</th><td>Alisha Solid Women's Cycling Shorts                                  </td><td>699  </td><td>267  </td><td>Alisha Solid Women's Cycling Shorts                                  </td><td>694  </td><td>325  </td></tr>\n",
       "\t<tr><th scope=row>5</th><td>Sicons All Purpose Arnica Dog Shampoo                                </td><td>220  </td><td>210  </td><td>Sicons All Purpose Arnica Dog Shampoo                                </td><td>208  </td><td>258  </td></tr>\n",
       "\t<tr><th scope=row>6</th><td>Eternal Gandhi Super Series Crystal Paper Weights  with Silver Finish</td><td>430  </td><td>430  </td><td>Eternal Gandhi Super Series Crystal Paper Weights  with Silver Finish</td><td>427  </td><td>473  </td></tr>\n",
       "</tbody>\n",
       "</table>\n"
      ],
      "text/latex": [
       "A data.frame: 6 x 6\n",
       "\\begin{tabular}{r|llllll}\n",
       "  & Product name in Flipkart & Retail price in Flipkart & Discounted Price in Flipkart & Product name in Amazon & Retail price in Amazon & Discounted Price in Amazon\\\\\n",
       "  & <chr> & <chr> & <chr> & <chr> & <chr> & <chr>\\\\\n",
       "\\hline\n",
       "\t1 & Alisha Solid Women's Cycling Shorts                                   & 999   & 379   & Alisha Solid Women's Cycling Shorts                                   & 982   & 438  \\\\\n",
       "\t2 & FabHomeDecor Fabric Double Sofa Bed                                   & 32157 & 22646 & FabHomeDecor Fabric Double Sofa Bed                                   & 32143 & 29121\\\\\n",
       "\t3 & AW Bellies                                                            & 999   & 499   & AW Bellies                                                            & 991   & 551  \\\\\n",
       "\t4 & Alisha Solid Women's Cycling Shorts                                   & 699   & 267   & Alisha Solid Women's Cycling Shorts                                   & 694   & 325  \\\\\n",
       "\t5 & Sicons All Purpose Arnica Dog Shampoo                                 & 220   & 210   & Sicons All Purpose Arnica Dog Shampoo                                 & 208   & 258  \\\\\n",
       "\t6 & Eternal Gandhi Super Series Crystal Paper Weights  with Silver Finish & 430   & 430   & Eternal Gandhi Super Series Crystal Paper Weights  with Silver Finish & 427   & 473  \\\\\n",
       "\\end{tabular}\n"
      ],
      "text/markdown": [
       "\n",
       "A data.frame: 6 x 6\n",
       "\n",
       "| <!--/--> | Product name in Flipkart &lt;chr&gt; | Retail price in Flipkart &lt;chr&gt; | Discounted Price in Flipkart &lt;chr&gt; | Product name in Amazon &lt;chr&gt; | Retail price in Amazon &lt;chr&gt; | Discounted Price in Amazon &lt;chr&gt; |\n",
       "|---|---|---|---|---|---|---|\n",
       "| 1 | Alisha Solid Women's Cycling Shorts                                   | 999   | 379   | Alisha Solid Women's Cycling Shorts                                   | 982   | 438   |\n",
       "| 2 | FabHomeDecor Fabric Double Sofa Bed                                   | 32157 | 22646 | FabHomeDecor Fabric Double Sofa Bed                                   | 32143 | 29121 |\n",
       "| 3 | AW Bellies                                                            | 999   | 499   | AW Bellies                                                            | 991   | 551   |\n",
       "| 4 | Alisha Solid Women's Cycling Shorts                                   | 699   | 267   | Alisha Solid Women's Cycling Shorts                                   | 694   | 325   |\n",
       "| 5 | Sicons All Purpose Arnica Dog Shampoo                                 | 220   | 210   | Sicons All Purpose Arnica Dog Shampoo                                 | 208   | 258   |\n",
       "| 6 | Eternal Gandhi Super Series Crystal Paper Weights  with Silver Finish | 430   | 430   | Eternal Gandhi Super Series Crystal Paper Weights  with Silver Finish | 427   | 473   |\n",
       "\n"
      ],
      "text/plain": [
       "  Product name in Flipkart                                             \n",
       "1 Alisha Solid Women's Cycling Shorts                                  \n",
       "2 FabHomeDecor Fabric Double Sofa Bed                                  \n",
       "3 AW Bellies                                                           \n",
       "4 Alisha Solid Women's Cycling Shorts                                  \n",
       "5 Sicons All Purpose Arnica Dog Shampoo                                \n",
       "6 Eternal Gandhi Super Series Crystal Paper Weights  with Silver Finish\n",
       "  Retail price in Flipkart Discounted Price in Flipkart\n",
       "1 999                      379                         \n",
       "2 32157                    22646                       \n",
       "3 999                      499                         \n",
       "4 699                      267                         \n",
       "5 220                      210                         \n",
       "6 430                      430                         \n",
       "  Product name in Amazon                                               \n",
       "1 Alisha Solid Women's Cycling Shorts                                  \n",
       "2 FabHomeDecor Fabric Double Sofa Bed                                  \n",
       "3 AW Bellies                                                           \n",
       "4 Alisha Solid Women's Cycling Shorts                                  \n",
       "5 Sicons All Purpose Arnica Dog Shampoo                                \n",
       "6 Eternal Gandhi Super Series Crystal Paper Weights  with Silver Finish\n",
       "  Retail price in Amazon Discounted Price in Amazon\n",
       "1 982                    438                       \n",
       "2 32143                  29121                     \n",
       "3 991                    551                       \n",
       "4 694                    325                       \n",
       "5 208                    258                       \n",
       "6 427                    473                       "
      ]
     },
     "metadata": {},
     "output_type": "display_data"
    }
   ],
   "source": [
    "combined <- data.frame(cbind(\n",
    "              n1=  flipkart[,'product_name'],\n",
    "              r1=  flipkart[,'retail_price'],\n",
    "              d1=  flipkart[,'discounted_price'],\n",
    "              n2=  fixed_amazon[,'product_name'],\n",
    "              r2=  fixed_amazon[,'retail_price'],\n",
    "              d2=  fixed_amazon[,'discounted_price']\n",
    "                          ))\n",
    "\n",
    "coln <-c('Product name in Flipkart','Retail price in Flipkart','Discounted Price in Flipkart','Product name in Amazon','Retail price in Amazon','Discounted Price in Amazon')\n",
    "colnames(combined) <- coln\n",
    "head(combined)"
   ]
  },
  {
   "cell_type": "code",
   "execution_count": 9,
   "id": "401427f7",
   "metadata": {},
   "outputs": [],
   "source": [
    "user_input <- function(input){\n",
    "  \n",
    "  if(input %in% combined$`Product name in Flipkart` | input %in% combined$`Product name in Amazon`)\n",
    "  {\n",
    "      \n",
    "    matches <- union(\n",
    "                     match(input,combined$`Product name in Flipkart`),\n",
    "                     match(input,combined$`Product name in Amazon`) \n",
    "                    )\n",
    "    }\n",
    "    return(combined[matches,])\n",
    "    }\n",
    "    "
   ]
  },
  {
   "cell_type": "code",
   "execution_count": 10,
   "id": "51bcd3cc",
   "metadata": {},
   "outputs": [
    {
     "data": {
      "text/html": [
       "<table class=\"dataframe\">\n",
       "<caption>A data.frame: 1 x 6</caption>\n",
       "<thead>\n",
       "\t<tr><th></th><th scope=col>Product name in Flipkart</th><th scope=col>Retail price in Flipkart</th><th scope=col>Discounted Price in Flipkart</th><th scope=col>Product name in Amazon</th><th scope=col>Retail price in Amazon</th><th scope=col>Discounted Price in Amazon</th></tr>\n",
       "\t<tr><th></th><th scope=col>&lt;chr&gt;</th><th scope=col>&lt;chr&gt;</th><th scope=col>&lt;chr&gt;</th><th scope=col>&lt;chr&gt;</th><th scope=col>&lt;chr&gt;</th><th scope=col>&lt;chr&gt;</th></tr>\n",
       "</thead>\n",
       "<tbody>\n",
       "\t<tr><th scope=row>3</th><td>AW Bellies</td><td>999</td><td>499</td><td>AW Bellies</td><td>991</td><td>551</td></tr>\n",
       "</tbody>\n",
       "</table>\n"
      ],
      "text/latex": [
       "A data.frame: 1 x 6\n",
       "\\begin{tabular}{r|llllll}\n",
       "  & Product name in Flipkart & Retail price in Flipkart & Discounted Price in Flipkart & Product name in Amazon & Retail price in Amazon & Discounted Price in Amazon\\\\\n",
       "  & <chr> & <chr> & <chr> & <chr> & <chr> & <chr>\\\\\n",
       "\\hline\n",
       "\t3 & AW Bellies & 999 & 499 & AW Bellies & 991 & 551\\\\\n",
       "\\end{tabular}\n"
      ],
      "text/markdown": [
       "\n",
       "A data.frame: 1 x 6\n",
       "\n",
       "| <!--/--> | Product name in Flipkart &lt;chr&gt; | Retail price in Flipkart &lt;chr&gt; | Discounted Price in Flipkart &lt;chr&gt; | Product name in Amazon &lt;chr&gt; | Retail price in Amazon &lt;chr&gt; | Discounted Price in Amazon &lt;chr&gt; |\n",
       "|---|---|---|---|---|---|---|\n",
       "| 3 | AW Bellies | 999 | 499 | AW Bellies | 991 | 551 |\n",
       "\n"
      ],
      "text/plain": [
       "  Product name in Flipkart Retail price in Flipkart\n",
       "3 AW Bellies               999                     \n",
       "  Discounted Price in Flipkart Product name in Amazon Retail price in Amazon\n",
       "3 499                          AW Bellies             991                   \n",
       "  Discounted Price in Amazon\n",
       "3 551                       "
      ]
     },
     "metadata": {},
     "output_type": "display_data"
    }
   ],
   "source": [
    "user_input('AW Bellies')\n"
   ]
  },
  {
   "cell_type": "code",
   "execution_count": null,
   "id": "78738de0",
   "metadata": {},
   "outputs": [],
   "source": []
  }
 ],
 "metadata": {
  "kernelspec": {
   "display_name": "R",
   "language": "R",
   "name": "ir"
  },
  "language_info": {
   "codemirror_mode": "r",
   "file_extension": ".r",
   "mimetype": "text/x-r-source",
   "name": "R",
   "pygments_lexer": "r",
   "version": "4.2.2"
  }
 },
 "nbformat": 4,
 "nbformat_minor": 5
}
