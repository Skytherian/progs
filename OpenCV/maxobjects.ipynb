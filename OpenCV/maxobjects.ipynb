{
 "cells": [
  {
   "cell_type": "code",
   "execution_count": 1,
   "id": "53cb5cb5",
   "metadata": {},
   "outputs": [],
   "source": [
    "import os"
   ]
  },
  {
   "cell_type": "code",
   "execution_count": 2,
   "id": "78bb3220",
   "metadata": {},
   "outputs": [],
   "source": [
    "import cv2\n",
    "vidcap=cv2.VideoCapture('./A walk around Hazratganj Lucknow-SU05fJL6430.mp4')\n",
    "success, image = vidcap.read()\n",
    "fps = vidcap.get(cv2.CAP_PROP_FPS)\n",
    "diff=[]\n",
    "times=[]"
   ]
  },
  {
   "cell_type": "code",
   "execution_count": 3,
   "id": "491fb81f",
   "metadata": {},
   "outputs": [],
   "source": [
    "count = 0"
   ]
  },
  {
   "cell_type": "code",
   "execution_count": 4,
   "id": "c9baa0ec",
   "metadata": {},
   "outputs": [],
   "source": [
    "import numpy as np"
   ]
  },
  {
   "cell_type": "code",
   "execution_count": 5,
   "id": "678ef0f4",
   "metadata": {},
   "outputs": [
    {
     "data": {
      "text/plain": [
       "(1080, 1920, 3)"
      ]
     },
     "execution_count": 5,
     "metadata": {},
     "output_type": "execute_result"
    }
   ],
   "source": [
    "image.shape\n",
    "#A keyframe should be a lot more different from the previous frame since it's the starting or ending of a transition"
   ]
  },
  {
   "cell_type": "code",
   "execution_count": 6,
   "id": "741eb9d2",
   "metadata": {},
   "outputs": [],
   "source": [
    " while success:\n",
    "        count=count+1\n",
    "        success,image = vidcap.read()\n",
    "        times.append(count/fps)\n",
    "        successnext,imagenext =vidcap.read()\n",
    "        if successnext:\n",
    "            diff.append(sum(cv2.sumElems(cv2.absdiff(image,imagenext))))"
   ]
  },
  {
   "cell_type": "code",
   "execution_count": 7,
   "id": "ce2646b8",
   "metadata": {},
   "outputs": [
    {
     "name": "stdout",
     "output_type": "stream",
     "text": [
      "[75408697.0, 78991689.0, 57502741.0, 56437274.0, 53850206.0, 49865713.0, 46503355.0, 52854099.0, 53871819.0, 57705236.0]\n"
     ]
    }
   ],
   "source": [
    "print(diff[:10])"
   ]
  },
  {
   "cell_type": "code",
   "execution_count": 8,
   "id": "5b91b6c7",
   "metadata": {},
   "outputs": [],
   "source": [
    "import matplotlib.pyplot as plt"
   ]
  },
  {
   "cell_type": "code",
   "execution_count": 9,
   "id": "04977970",
   "metadata": {},
   "outputs": [
    {
     "data": {
      "text/plain": [
       "(array([ 10.,  51., 112., 141., 168., 169., 141.,  62.,  27.,  18.]),\n",
       " array([3.26972500e+07, 4.99128775e+07, 6.71285050e+07, 8.43441325e+07,\n",
       "        1.01559760e+08, 1.18775388e+08, 1.35991015e+08, 1.53206642e+08,\n",
       "        1.70422270e+08, 1.87637898e+08, 2.04853525e+08]),\n",
       " <BarContainer object of 10 artists>)"
      ]
     },
     "execution_count": 9,
     "metadata": {},
     "output_type": "execute_result"
    },
    {
     "data": {
      "image/png": "[encoded data removed]",
      "text/plain": [
       "<Figure size 432x288 with 1 Axes>"
      ]
     },
     "metadata": {
      "needs_background": "light"
     },
     "output_type": "display_data"
    }
   ],
   "source": [
    "plt.hist(diff)"
   ]
  },
  {
   "cell_type": "code",
   "execution_count": 10,
   "id": "2c736a7b",
   "metadata": {},
   "outputs": [
    {
     "name": "stdout",
     "output_type": "stream",
     "text": [
      "24173612.0\n",
      "116802002.0\n"
     ]
    }
   ],
   "source": [
    "import scipy.stats\n",
    "mad=scipy.stats.median_abs_deviation(diff)\n",
    "print(mad)\n",
    "print(np.median(diff))"
   ]
  },
  {
   "cell_type": "code",
   "execution_count": 11,
   "id": "cd11723a",
   "metadata": {},
   "outputs": [],
   "source": [
    "criteria=np.median(diff)+1.56*mad"
   ]
  },
  {
   "cell_type": "code",
   "execution_count": 12,
   "id": "fd000e80",
   "metadata": {},
   "outputs": [],
   "source": [
    "matches=[i for i,v in enumerate(diff) if v > criteria]"
   ]
  },
  {
   "cell_type": "code",
   "execution_count": 13,
   "id": "18460dd4",
   "metadata": {},
   "outputs": [
    {
     "name": "stdout",
     "output_type": "stream",
     "text": [
      "[198, 199, 200, 201, 202, 203, 204, 205, 206, 207, 208, 209, 210, 218, 219, 220, 221, 222, 223, 224, 225, 226, 272, 273, 274, 275, 276, 277, 278, 279, 280, 281, 282, 283, 284, 285, 286, 308, 309, 310, 311, 320, 354, 355, 356, 357, 358, 359, 361, 362, 400, 401, 402, 403, 404, 405, 406, 407, 408, 414, 415, 416, 417, 418, 419, 420, 421, 422, 423, 424, 425, 426, 427, 428, 429, 430, 431, 432, 559, 560, 561, 562, 563, 564, 565, 617, 618, 619, 620, 621, 719, 720, 721, 727, 728, 729, 807, 808, 809, 817, 818, 819, 824, 825, 833]\n"
     ]
    }
   ],
   "source": [
    "print(matches) #Lots of adjacent frames. Need to filter"
   ]
  },
  {
   "cell_type": "code",
   "execution_count": 14,
   "id": "151a3744",
   "metadata": {},
   "outputs": [],
   "source": [
    "numbers=np.array(matches)\n",
    "import itertools"
   ]
  },
  {
   "cell_type": "code",
   "execution_count": 15,
   "id": "73c35b5c",
   "metadata": {},
   "outputs": [
    {
     "name": "stdout",
     "output_type": "stream",
     "text": [
      "{0: array([198, 199, 200, 201, 202, 203, 204, 205, 206, 207, 208, 209, 210,\n",
      "       218, 219, 220, 221, 222, 223, 224, 225, 226]), 1: array([272, 273, 274, 275, 276, 277, 278, 279, 280, 281, 282, 283, 284,\n",
      "       285, 286]), 2: array([308, 309, 310, 311, 320]), 3: array([354, 355, 356, 357, 358, 359, 361, 362]), 4: array([400, 401, 402, 403, 404, 405, 406, 407, 408, 414, 415, 416, 417,\n",
      "       418, 419, 420, 421, 422, 423, 424, 425, 426, 427, 428, 429, 430,\n",
      "       431, 432]), 5: array([559, 560, 561, 562, 563, 564, 565]), 6: array([617, 618, 619, 620, 621]), 7: array([719, 720, 721, 727, 728, 729]), 8: array([807, 808, 809, 817, 818, 819, 824, 825, 833])}\n"
     ]
    }
   ],
   "source": [
    "nd = [0] + list(np.where(np.diff(numbers) > 9)[0] + 1) + [len(numbers)]\n",
    "\n",
    "a, b = itertools.tee(nd)\n",
    "next(b, None)\n",
    "res = {}\n",
    "for j, (f, b) in enumerate(zip(a, b)):\n",
    "    res[j] = numbers[f:b]\n",
    "print(res)"
   ]
  },
  {
   "cell_type": "code",
   "execution_count": 16,
   "id": "fde6bb19",
   "metadata": {},
   "outputs": [],
   "source": [
    "keyframes=[]\n",
    "for i in range(1,len(res)):\n",
    "    keyframes.append(int(np.median(np.array(res[i])))) #taking the median frame"
   ]
  },
  {
   "cell_type": "code",
   "execution_count": 17,
   "id": "a8dd6f9b",
   "metadata": {},
   "outputs": [
    {
     "data": {
      "text/plain": [
       "array([ 9.33742444, 10.37121072, 11.93856411, 13.97278872, 18.77489272,\n",
       "       20.67572556, 24.17725972, 27.3119665 ])"
      ]
     },
     "execution_count": 17,
     "metadata": {},
     "output_type": "execute_result"
    }
   ],
   "source": [
    "np.array(times)[keyframes] #get the times"
   ]
  },
  {
   "cell_type": "code",
   "execution_count": 18,
   "id": "f6d735b7",
   "metadata": {},
   "outputs": [],
   "source": [
    "vidcap=cv2.VideoCapture('./A walk around Hazratganj Lucknow-SU05fJL6430.mp4')\n",
    "success, image = vidcap.read()\n",
    "os.chdir('./images/')\n",
    "for i in keyframes:\n",
    "    vidcap.set(1,i)\n",
    "    success, image = vidcap.read()\n",
    "    current=np.array(times)[i]\n",
    "    cv2.imwrite(str(current)+'.jpg',image)"
   ]
  },
  {
   "cell_type": "code",
   "execution_count": 19,
   "id": "6fbb5c14",
   "metadata": {},
   "outputs": [],
   "source": [
    "from pytorchyolo import detect, models"
   ]
  },
  {
   "cell_type": "code",
   "execution_count": 20,
   "id": "5b901c9d",
   "metadata": {},
   "outputs": [],
   "source": [
    "model = models.load_model(\n",
    "  \"/home/scyther/Downloads/yolov3/PyTorch-YOLOv3/config/yolov3.cfg\", \n",
    "\"/home/scyther/Downloads/yolov3/PyTorch-YOLOv3/weights/yolov3.weights\")"
   ]
  },
  {
   "cell_type": "code",
   "execution_count": 21,
   "id": "70444bfe",
   "metadata": {},
   "outputs": [
    {
     "name": "stdout",
     "output_type": "stream",
     "text": [
      "['9.337424444444444.jpg', '10.371210722222221.jpg', '11.938564111111111.jpg', '13.972788722222221.jpg', '18.774892722222223.jpg', '20.675725555555555.jpg', '24.17725972222222.jpg', '27.3119665.jpg']\n"
     ]
    }
   ],
   "source": [
    "x = [f.name for f in os.scandir() if f.is_file()]\n",
    "print(x)"
   ]
  },
  {
   "cell_type": "code",
   "execution_count": 22,
   "id": "10569311",
   "metadata": {},
   "outputs": [
    {
     "name": "stdout",
     "output_type": "stream",
     "text": [
      "Number of objects detected :5\n",
      "Number of objects detected :2\n",
      "Number of objects detected :8\n",
      "Number of objects detected :13\n",
      "Number of objects detected :11\n",
      "Number of objects detected :13\n",
      "Number of objects detected :6\n",
      "Number of objects detected :14\n"
     ]
    }
   ],
   "source": [
    "objects=[]\n",
    "for i in x:\n",
    "    img = cv2.imread(i)\n",
    "    img = cv2.cvtColor(img, cv2.COLOR_BGR2RGB)\n",
    "    boxes = detect.detect_image(model, img)\n",
    "    objects.append(len(boxes))\n",
    "    print('Number of objects detected :'+str(len(boxes)))"
   ]
  },
  {
   "cell_type": "code",
   "execution_count": 23,
   "id": "754cd365",
   "metadata": {},
   "outputs": [
    {
     "name": "stdout",
     "output_type": "stream",
     "text": [
      "Maximum number of objects:14 found at 27.3119665.jpg\n"
     ]
    }
   ],
   "source": [
    "print('Maximum number of objects:' +str(max(objects)) +  ' found at '+  str( np.array(x)[np.argmax(objects)]) )"
   ]
  },
  {
   "cell_type": "code",
   "execution_count": null,
   "id": "3915d75b",
   "metadata": {},
   "outputs": [],
   "source": []
  }
 ],
 "metadata": {
  "kernelspec": {
   "display_name": "Python 3 (ipykernel)",
   "language": "python",
   "name": "python3"
  },
  "language_info": {
   "codemirror_mode": {
    "name": "ipython",
    "version": 3
   },
   "file_extension": ".py",
   "mimetype": "text/x-python",
   "name": "python",
   "nbconvert_exporter": "python",
   "pygments_lexer": "ipython3",
   "version": "3.9.6"
  }
 },
 "nbformat": 4,
 "nbformat_minor": 5
}
